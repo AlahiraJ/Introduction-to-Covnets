{
  "nbformat": 4,
  "nbformat_minor": 0,
  "metadata": {
    "colab": {
      "name": "Mnist Classification.ipynb",
      "provenance": [],
      "collapsed_sections": [],
      "authorship_tag": "ABX9TyNNlnWqHwu9gH2ETy/2SuD3",
      "include_colab_link": true
    },
    "kernelspec": {
      "name": "python3",
      "display_name": "Python 3"
    }
  },
  "cells": [
    {
      "cell_type": "markdown",
      "metadata": {
        "id": "view-in-github",
        "colab_type": "text"
      },
      "source": [
        "<a href=\"https://colab.research.google.com/github/AlahiraJ/Introduction-to-Covnets/blob/master/Mnist_Classification.ipynb\" target=\"_parent\"><img src=\"https://colab.research.google.com/assets/colab-badge.svg\" alt=\"Open In Colab\"/></a>"
      ]
    },
    {
      "cell_type": "code",
      "metadata": {
        "id": "m1HCKe_qNqTo",
        "colab_type": "code",
        "colab": {}
      },
      "source": [
        "from keras.datasets import mnist"
      ],
      "execution_count": 0,
      "outputs": []
    },
    {
      "cell_type": "code",
      "metadata": {
        "id": "jUD0Tq19OB8Q",
        "colab_type": "code",
        "colab": {}
      },
      "source": [
        "import warnings\n",
        "warnings.filterwarnings('ignore')"
      ],
      "execution_count": 0,
      "outputs": []
    },
    {
      "cell_type": "code",
      "metadata": {
        "id": "JfD4IelZNv7q",
        "colab_type": "code",
        "colab": {}
      },
      "source": [
        "(x_train,y_train), (x_test, y_test) = mnist.load_data()"
      ],
      "execution_count": 0,
      "outputs": []
    },
    {
      "cell_type": "code",
      "metadata": {
        "id": "1bivgEQqN60H",
        "colab_type": "code",
        "colab": {}
      },
      "source": [
        "import matplotlib.pyplot as plt\n",
        "plt.style.use('ggplot')"
      ],
      "execution_count": 0,
      "outputs": []
    },
    {
      "cell_type": "code",
      "metadata": {
        "id": "8DUd9ek8OBAt",
        "colab_type": "code",
        "outputId": "b2ad3962-86de-4cbe-9763-0bf9356aada7",
        "colab": {
          "base_uri": "https://localhost:8080/",
          "height": 183
        }
      },
      "source": [
        "plt.figure(figsize=(10,10))\n",
        "fig, (ax1, ax2, ax3) = plt.subplots(1,3)\n",
        "\n",
        "ax1.imshow(x_train[0])\n",
        "\n",
        "ax2.imshow(x_train[1])\n",
        "\n",
        "ax3.imshow(x_train[2])"
      ],
      "execution_count": 0,
      "outputs": [
        {
          "output_type": "execute_result",
          "data": {
            "text/plain": [
              "<matplotlib.image.AxesImage at 0x7fc5752a96d8>"
            ]
          },
          "metadata": {
            "tags": []
          },
          "execution_count": 38
        },
        {
          "output_type": "display_data",
          "data": {
            "text/plain": [
              "<Figure size 720x720 with 0 Axes>"
            ]
          },
          "metadata": {
            "tags": []
          }
        },
        {
          "output_type": "display_data",
          "data": {
            "image/png": "[encoded data removed]",
            "text/plain": [
              "<Figure size 432x288 with 3 Axes>"
            ]
          },
          "metadata": {
            "tags": []
          }
        }
      ]
    },
    {
      "cell_type": "code",
      "metadata": {
        "id": "b4EOGDnkO0p-",
        "colab_type": "code",
        "outputId": "e92198c7-171d-442f-aa18-0e2a280c1827",
        "colab": {
          "base_uri": "https://localhost:8080/",
          "height": 34
        }
      },
      "source": [
        "x_train[1].shape"
      ],
      "execution_count": 0,
      "outputs": [
        {
          "output_type": "execute_result",
          "data": {
            "text/plain": [
              "(28, 28)"
            ]
          },
          "metadata": {
            "tags": []
          },
          "execution_count": 39
        }
      ]
    },
    {
      "cell_type": "code",
      "metadata": {
        "id": "D0ibJtIUPVSm",
        "colab_type": "code",
        "colab": {}
      },
      "source": [
        "## reshape data and typecast to float"
      ],
      "execution_count": 0,
      "outputs": []
    },
    {
      "cell_type": "code",
      "metadata": {
        "id": "-sO_03-5Pk-A",
        "colab_type": "code",
        "colab": {}
      },
      "source": [
        "x_train = x_train.reshape(x_train.shape[0],28,28,1).astype('float32')\n",
        "x_test = x_test.reshape(x_test.shape[0],28,28,1).astype('float32')"
      ],
      "execution_count": 0,
      "outputs": []
    },
    {
      "cell_type": "code",
      "metadata": {
        "id": "cQ9fARNWP8h8",
        "colab_type": "code",
        "outputId": "b9a0f06c-81ed-4b42-c184-3c174007214c",
        "colab": {
          "base_uri": "https://localhost:8080/",
          "height": 34
        }
      },
      "source": [
        "x_test[1].shape"
      ],
      "execution_count": 0,
      "outputs": [
        {
          "output_type": "execute_result",
          "data": {
            "text/plain": [
              "(28, 28, 1)"
            ]
          },
          "metadata": {
            "tags": []
          },
          "execution_count": 66
        }
      ]
    },
    {
      "cell_type": "code",
      "metadata": {
        "id": "UsLZWB72P-S1",
        "colab_type": "code",
        "colab": {}
      },
      "source": [
        "## normalize data"
      ],
      "execution_count": 0,
      "outputs": []
    },
    {
      "cell_type": "code",
      "metadata": {
        "id": "WrY8JLPVQG-2",
        "colab_type": "code",
        "colab": {}
      },
      "source": [
        "x_train = x_train/255\n",
        "x_test = x_test/255"
      ],
      "execution_count": 0,
      "outputs": []
    },
    {
      "cell_type": "code",
      "metadata": {
        "id": "k1ePkrnSQYeg",
        "colab_type": "code",
        "colab": {}
      },
      "source": [
        "## encode output"
      ],
      "execution_count": 0,
      "outputs": []
    },
    {
      "cell_type": "code",
      "metadata": {
        "id": "OpUmTi9jQc1d",
        "colab_type": "code",
        "colab": {}
      },
      "source": [
        "from keras.utils import np_utils"
      ],
      "execution_count": 0,
      "outputs": []
    },
    {
      "cell_type": "code",
      "metadata": {
        "id": "SUovJLoUQf6q",
        "colab_type": "code",
        "colab": {}
      },
      "source": [
        "y_train = np_utils.to_categorical(y_train)\n",
        "y_test = np_utils.to_categorical(y_test)"
      ],
      "execution_count": 0,
      "outputs": []
    },
    {
      "cell_type": "code",
      "metadata": {
        "id": "04J3zLWSTafb",
        "colab_type": "code",
        "colab": {}
      },
      "source": [
        "class_num = y_test.shape[1]"
      ],
      "execution_count": 0,
      "outputs": []
    },
    {
      "cell_type": "code",
      "metadata": {
        "id": "b32aLfawUn7K",
        "colab_type": "code",
        "colab": {}
      },
      "source": [
        "## train_test_split"
      ],
      "execution_count": 0,
      "outputs": []
    },
    {
      "cell_type": "code",
      "metadata": {
        "id": "3Gw4tjIXQwI8",
        "colab_type": "code",
        "colab": {}
      },
      "source": [
        "from keras.models import Sequential\n",
        "from keras.layers import Conv2D\n",
        "from keras.layers import MaxPooling2D\n",
        "from keras.layers import Dropout\n",
        "from keras.layers import Flatten\n",
        "from keras.layers import Dense"
      ],
      "execution_count": 0,
      "outputs": []
    },
    {
      "cell_type": "code",
      "metadata": {
        "id": "lsFMrxfmRYky",
        "colab_type": "code",
        "colab": {}
      },
      "source": [
        "## create baseline model"
      ],
      "execution_count": 0,
      "outputs": []
    },
    {
      "cell_type": "code",
      "metadata": {
        "id": "wtS3duKyRSy7",
        "colab_type": "code",
        "colab": {}
      },
      "source": [
        "def baseline_model():\n",
        "\n",
        "  model = Sequential()\n",
        "\n",
        "  model.add(Conv2D(32, (5,5), input_shape=(28,28, 1), activation='relu'))  ## initialize Conv2D layer with 32 neurons  \n",
        "  model.add(MaxPooling2D(pool_size=(2,2)))\n",
        "  model.add(Dropout(0.2))\n",
        "  model.add(Flatten())\n",
        "  model.add(Dense(128, activation='relu'))\n",
        "  model.add(Dense(class_num, activation='softmax'))\n",
        "\n",
        "  model.compile(loss='categorical_crossentropy', optimizer ='adam', metrics=['accuracy'])\n",
        "\n",
        "  return model"
      ],
      "execution_count": 0,
      "outputs": []
    },
    {
      "cell_type": "code",
      "metadata": {
        "id": "jsGsAgOuUmSV",
        "colab_type": "code",
        "colab": {}
      },
      "source": [
        "model = baseline_model()"
      ],
      "execution_count": 0,
      "outputs": []
    },
    {
      "cell_type": "code",
      "metadata": {
        "id": "_wOD4QLjU9K3",
        "colab_type": "code",
        "outputId": "bf292d0c-011c-4cde-d805-4573a6c3d9bf",
        "colab": {
          "base_uri": "https://localhost:8080/",
          "height": 357
        }
      },
      "source": [
        "model.summary()"
      ],
      "execution_count": 0,
      "outputs": [
        {
          "output_type": "stream",
          "text": [
            "Model: \"sequential_8\"\n",
            "_________________________________________________________________\n",
            "Layer (type)                 Output Shape              Param #   \n",
            "=================================================================\n",
            "conv2d_6 (Conv2D)            (None, 24, 24, 32)        832       \n",
            "_________________________________________________________________\n",
            "max_pooling2d_2 (MaxPooling2 (None, 12, 12, 32)        0         \n",
            "_________________________________________________________________\n",
            "dropout_2 (Dropout)          (None, 12, 12, 32)        0         \n",
            "_________________________________________________________________\n",
            "flatten_2 (Flatten)          (None, 4608)              0         \n",
            "_________________________________________________________________\n",
            "dense_3 (Dense)              (None, 128)               589952    \n",
            "_________________________________________________________________\n",
            "dense_4 (Dense)              (None, 10)                1290      \n",
            "=================================================================\n",
            "Total params: 592,074\n",
            "Trainable params: 592,074\n",
            "Non-trainable params: 0\n",
            "_________________________________________________________________\n"
          ],
          "name": "stdout"
        }
      ]
    },
    {
      "cell_type": "code",
      "metadata": {
        "id": "cWQ2b2W6WSwN",
        "colab_type": "code",
        "outputId": "c6313109-9a15-4904-eecf-d2b675c1e1bd",
        "colab": {
          "base_uri": "https://localhost:8080/",
          "height": 901
        }
      },
      "source": [
        "model.fit(x_train, y_train, validation_data=(x_test, y_test), epochs = 25, batch_size=250, verbose= 2)"
      ],
      "execution_count": 0,
      "outputs": [
        {
          "output_type": "stream",
          "text": [
            "Train on 60000 samples, validate on 10000 samples\n",
            "Epoch 1/25\n",
            " - 29s - loss: 0.1637 - accuracy: 0.9514 - val_loss: 0.0813 - val_accuracy: 0.9765\n",
            "Epoch 2/25\n",
            " - 28s - loss: 0.0745 - accuracy: 0.9776 - val_loss: 0.0567 - val_accuracy: 0.9819\n",
            "Epoch 3/25\n",
            " - 28s - loss: 0.0536 - accuracy: 0.9837 - val_loss: 0.0421 - val_accuracy: 0.9858\n",
            "Epoch 4/25\n",
            " - 28s - loss: 0.0438 - accuracy: 0.9865 - val_loss: 0.0425 - val_accuracy: 0.9865\n",
            "Epoch 5/25\n",
            " - 28s - loss: 0.0350 - accuracy: 0.9893 - val_loss: 0.0369 - val_accuracy: 0.9874\n",
            "Epoch 6/25\n",
            " - 28s - loss: 0.0295 - accuracy: 0.9907 - val_loss: 0.0355 - val_accuracy: 0.9875\n",
            "Epoch 7/25\n",
            " - 28s - loss: 0.0262 - accuracy: 0.9918 - val_loss: 0.0328 - val_accuracy: 0.9887\n",
            "Epoch 8/25\n",
            " - 28s - loss: 0.0217 - accuracy: 0.9929 - val_loss: 0.0335 - val_accuracy: 0.9898\n",
            "Epoch 9/25\n",
            " - 28s - loss: 0.0183 - accuracy: 0.9940 - val_loss: 0.0355 - val_accuracy: 0.9896\n",
            "Epoch 10/25\n",
            " - 28s - loss: 0.0158 - accuracy: 0.9950 - val_loss: 0.0392 - val_accuracy: 0.9877\n",
            "Epoch 11/25\n",
            " - 28s - loss: 0.0147 - accuracy: 0.9954 - val_loss: 0.0394 - val_accuracy: 0.9879\n",
            "Epoch 12/25\n",
            " - 28s - loss: 0.0115 - accuracy: 0.9965 - val_loss: 0.0348 - val_accuracy: 0.9893\n",
            "Epoch 13/25\n",
            " - 27s - loss: 0.0109 - accuracy: 0.9963 - val_loss: 0.0356 - val_accuracy: 0.9894\n",
            "Epoch 14/25\n",
            " - 27s - loss: 0.0099 - accuracy: 0.9969 - val_loss: 0.0414 - val_accuracy: 0.9882\n",
            "Epoch 15/25\n",
            " - 27s - loss: 0.0095 - accuracy: 0.9969 - val_loss: 0.0353 - val_accuracy: 0.9903\n",
            "Epoch 16/25\n",
            " - 27s - loss: 0.0076 - accuracy: 0.9976 - val_loss: 0.0378 - val_accuracy: 0.9901\n",
            "Epoch 17/25\n",
            " - 27s - loss: 0.0070 - accuracy: 0.9977 - val_loss: 0.0399 - val_accuracy: 0.9893\n",
            "Epoch 18/25\n",
            " - 28s - loss: 0.0067 - accuracy: 0.9977 - val_loss: 0.0350 - val_accuracy: 0.9894\n",
            "Epoch 19/25\n",
            " - 27s - loss: 0.0057 - accuracy: 0.9982 - val_loss: 0.0377 - val_accuracy: 0.9897\n",
            "Epoch 20/25\n",
            " - 28s - loss: 0.0053 - accuracy: 0.9983 - val_loss: 0.0376 - val_accuracy: 0.9892\n",
            "Epoch 21/25\n",
            " - 27s - loss: 0.0045 - accuracy: 0.9985 - val_loss: 0.0422 - val_accuracy: 0.9880\n",
            "Epoch 22/25\n",
            " - 27s - loss: 0.0048 - accuracy: 0.9983 - val_loss: 0.0375 - val_accuracy: 0.9913\n",
            "Epoch 23/25\n",
            " - 28s - loss: 0.0048 - accuracy: 0.9984 - val_loss: 0.0418 - val_accuracy: 0.9892\n",
            "Epoch 24/25\n",
            " - 28s - loss: 0.0033 - accuracy: 0.9990 - val_loss: 0.0405 - val_accuracy: 0.9897\n",
            "Epoch 25/25\n",
            " - 28s - loss: 0.0043 - accuracy: 0.9985 - val_loss: 0.0410 - val_accuracy: 0.9895\n"
          ],
          "name": "stdout"
        },
        {
          "output_type": "execute_result",
          "data": {
            "text/plain": [
              "<keras.callbacks.callbacks.History at 0x7fc5740890b8>"
            ]
          },
          "metadata": {
            "tags": []
          },
          "execution_count": 73
        }
      ]
    },
    {
      "cell_type": "code",
      "metadata": {
        "id": "sSJ5D9KdXFsa",
        "colab_type": "code",
        "colab": {}
      },
      "source": [
        ""
      ],
      "execution_count": 0,
      "outputs": []
    }
  ]
}
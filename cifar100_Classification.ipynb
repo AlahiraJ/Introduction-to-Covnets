{
  "nbformat": 4,
  "nbformat_minor": 0,
  "metadata": {
    "colab": {
      "name": "Cifar100 Classification.ipynb",
      "provenance": [],
      "collapsed_sections": [],
      "authorship_tag": "ABX9TyMkqmVdRdycZPziKWrmkYW5"
    },
    "kernelspec": {
      "name": "python3",
      "display_name": "Python 3"
    }
  },
  "cells": [
    {
      "cell_type": "code",
      "metadata": {
        "id": "WR4kxmirareM",
        "colab_type": "code",
        "colab": {
          "base_uri": "https://localhost:8080/",
          "height": 34
        },
        "outputId": "9f70bdf5-ce0d-4bf0-8494-ff8c4d614688"
      },
      "source": [
        "from keras.datasets import cifar10\n",
        "import tensorflow as tf"
      ],
      "execution_count": 1,
      "outputs": [
        {
          "output_type": "stream",
          "text": [
            "Using TensorFlow backend.\n"
          ],
          "name": "stderr"
        }
      ]
    },
    {
      "cell_type": "code",
      "metadata": {
        "id": "eFebJIVQTOQS",
        "colab_type": "code",
        "colab": {
          "base_uri": "https://localhost:8080/",
          "height": 34
        },
        "outputId": "90218a36-e09e-44b3-ded2-297487adc09e"
      },
      "source": [
        "physical_devices = tf.config.experimental.list_physical_devices('GPU')\n",
        "print(\"Number of GPUs available : \", len(physical_devices))"
      ],
      "execution_count": 2,
      "outputs": [
        {
          "output_type": "stream",
          "text": [
            "Number of GPUs available :  0\n"
          ],
          "name": "stdout"
        }
      ]
    },
    {
      "cell_type": "code",
      "metadata": {
        "id": "gOrkVkTDfFo5",
        "colab_type": "code",
        "colab": {}
      },
      "source": [
        "import warnings\n",
        "warnings.filterwarnings('ignore')\n"
      ],
      "execution_count": 3,
      "outputs": []
    },
    {
      "cell_type": "code",
      "metadata": {
        "id": "OOPghKuafUPz",
        "colab_type": "code",
        "colab": {}
      },
      "source": [
        "(x_train,y_train), (x_test, y_test) = cifar10.load_data()"
      ],
      "execution_count": 4,
      "outputs": []
    },
    {
      "cell_type": "code",
      "metadata": {
        "id": "LvRQNr8PkYF3",
        "colab_type": "code",
        "colab": {
          "base_uri": "https://localhost:8080/",
          "height": 34
        },
        "outputId": "9b00c87a-531b-4fcd-8f6e-02b4c947f16e"
      },
      "source": [
        "x_train.shape"
      ],
      "execution_count": 5,
      "outputs": [
        {
          "output_type": "execute_result",
          "data": {
            "text/plain": [
              "(50000, 32, 32, 3)"
            ]
          },
          "metadata": {
            "tags": []
          },
          "execution_count": 5
        }
      ]
    },
    {
      "cell_type": "code",
      "metadata": {
        "id": "Lbfc85PBfkXY",
        "colab_type": "code",
        "colab": {}
      },
      "source": [
        "import matplotlib.pyplot as plt\n",
        "plt.style.use('ggplot')"
      ],
      "execution_count": 6,
      "outputs": []
    },
    {
      "cell_type": "code",
      "metadata": {
        "id": "8Z-2zGKUj8Rx",
        "colab_type": "code",
        "colab": {
          "base_uri": "https://localhost:8080/",
          "height": 183
        },
        "outputId": "48dd47db-7372-41e0-d4a8-4a0084138e14"
      },
      "source": [
        "plt.figure(figsize=(20,20))\n",
        "\n",
        "fig, (ax1, ax2, ax3) = plt.subplots(1,3)\n",
        "\n",
        "ax1.imshow(x_train[0])\n",
        "\n",
        "ax2.imshow(x_train[1])\n",
        "\n",
        "ax3.imshow(x_train[2])"
      ],
      "execution_count": 7,
      "outputs": [
        {
          "output_type": "execute_result",
          "data": {
            "text/plain": [
              "<matplotlib.image.AxesImage at 0x7f103ccca7f0>"
            ]
          },
          "metadata": {
            "tags": []
          },
          "execution_count": 7
        },
        {
          "output_type": "display_data",
          "data": {
            "text/plain": [
              "<Figure size 1440x1440 with 0 Axes>"
            ]
          },
          "metadata": {
            "tags": []
          }
        },
        {
          "output_type": "display_data",
          "data": {
            "image/png": "[encoded data removed]",
            "text/plain": [
              "<Figure size 432x288 with 3 Axes>"
            ]
          },
          "metadata": {
            "tags": []
          }
        }
      ]
    },
    {
      "cell_type": "code",
      "metadata": {
        "id": "JjRGFsnEkTPM",
        "colab_type": "code",
        "colab": {}
      },
      "source": [
        "## Typecasting of data"
      ],
      "execution_count": 8,
      "outputs": []
    },
    {
      "cell_type": "code",
      "metadata": {
        "id": "kbFCBoBzto1W",
        "colab_type": "code",
        "colab": {}
      },
      "source": [
        "import numpy as np"
      ],
      "execution_count": 9,
      "outputs": []
    },
    {
      "cell_type": "code",
      "metadata": {
        "id": "yY97BMOyksKC",
        "colab_type": "code",
        "colab": {}
      },
      "source": [
        "x_train = x_train.astype('float32')\n",
        "x_test = x_test.astype('float32')"
      ],
      "execution_count": 10,
      "outputs": []
    },
    {
      "cell_type": "code",
      "metadata": {
        "id": "1w6jUkOvk5Ou",
        "colab_type": "code",
        "colab": {}
      },
      "source": [
        "## normalize data"
      ],
      "execution_count": 11,
      "outputs": []
    },
    {
      "cell_type": "code",
      "metadata": {
        "id": "HPby9TK2k7Bc",
        "colab_type": "code",
        "colab": {}
      },
      "source": [
        "x_train = x_train/255\n",
        "x_test = x_test/255"
      ],
      "execution_count": 12,
      "outputs": []
    },
    {
      "cell_type": "code",
      "metadata": {
        "id": "9b498ExjlDvb",
        "colab_type": "code",
        "colab": {}
      },
      "source": [
        "## encode output"
      ],
      "execution_count": null,
      "outputs": []
    },
    {
      "cell_type": "code",
      "metadata": {
        "id": "LPbHofhU9v6-",
        "colab_type": "code",
        "colab": {
          "base_uri": "https://localhost:8080/",
          "height": 34
        },
        "outputId": "8aa0aae6-36a9-4031-d71c-97d9ef026df5"
      },
      "source": [
        "x_train.shape"
      ],
      "execution_count": 16,
      "outputs": [
        {
          "output_type": "execute_result",
          "data": {
            "text/plain": [
              "(50000, 32, 32, 3)"
            ]
          },
          "metadata": {
            "tags": []
          },
          "execution_count": 16
        }
      ]
    },
    {
      "cell_type": "code",
      "metadata": {
        "id": "d9mWiG1FlJH-",
        "colab_type": "code",
        "colab": {}
      },
      "source": [
        "from keras.utils import np_utils"
      ],
      "execution_count": 17,
      "outputs": []
    },
    {
      "cell_type": "code",
      "metadata": {
        "id": "eOPBZPJOlMcX",
        "colab_type": "code",
        "colab": {}
      },
      "source": [
        "y_train = np_utils.to_categorical(y_train)\n",
        "y_test = np_utils.to_categorical(y_test)"
      ],
      "execution_count": 18,
      "outputs": []
    },
    {
      "cell_type": "code",
      "metadata": {
        "id": "fDrnRBoJlXjJ",
        "colab_type": "code",
        "colab": {}
      },
      "source": [
        "from tensorflow.keras.models import Sequential\n",
        "from tensorflow.keras.layers import Conv2D\n",
        "from tensorflow.keras.layers import MaxPooling2D\n",
        "from tensorflow.keras.layers import Dropout\n",
        "from tensorflow.keras.layers import Flatten\n",
        "from tensorflow.keras.layers import Dense"
      ],
      "execution_count": 19,
      "outputs": []
    },
    {
      "cell_type": "code",
      "metadata": {
        "id": "b3U8ZpAFrvuG",
        "colab_type": "code",
        "colab": {}
      },
      "source": [
        "model = Sequential([\n",
        "                    Conv2D(32, kernel_size=(3,3), padding='same', activation='relu', input_shape= (32, 32, 3)),\n",
        "                    MaxPooling2D(pool_size=(2,2)),\n",
        "                    Flatten(),\n",
        "                    Dense(128, activation ='relu'),\n",
        "                    Dense(10, activation = 'softmax'),\n",
        "])\n"
      ],
      "execution_count": 24,
      "outputs": []
    },
    {
      "cell_type": "code",
      "metadata": {
        "id": "P7XpqFEGrvxR",
        "colab_type": "code",
        "colab": {
          "base_uri": "https://localhost:8080/",
          "height": 323
        },
        "outputId": "2c92949d-d3d2-46ea-8ddb-c02e71afa02b"
      },
      "source": [
        "model.summary()"
      ],
      "execution_count": 25,
      "outputs": [
        {
          "output_type": "stream",
          "text": [
            "Model: \"sequential_1\"\n",
            "_________________________________________________________________\n",
            "Layer (type)                 Output Shape              Param #   \n",
            "=================================================================\n",
            "conv2d_1 (Conv2D)            (None, 32, 32, 32)        896       \n",
            "_________________________________________________________________\n",
            "max_pooling2d_1 (MaxPooling2 (None, 16, 16, 32)        0         \n",
            "_________________________________________________________________\n",
            "flatten_1 (Flatten)          (None, 8192)              0         \n",
            "_________________________________________________________________\n",
            "dense_2 (Dense)              (None, 128)               1048704   \n",
            "_________________________________________________________________\n",
            "dense_3 (Dense)              (None, 10)                1290      \n",
            "=================================================================\n",
            "Total params: 1,050,890\n",
            "Trainable params: 1,050,890\n",
            "Non-trainable params: 0\n",
            "_________________________________________________________________\n"
          ],
          "name": "stdout"
        }
      ]
    },
    {
      "cell_type": "code",
      "metadata": {
        "id": "hCopxNH7qaJH",
        "colab_type": "code",
        "colab": {}
      },
      "source": [
        "model.compile(loss='categorical_crossentropy', optimizer='adam', metrics=['accuracy'])"
      ],
      "execution_count": 26,
      "outputs": []
    },
    {
      "cell_type": "code",
      "metadata": {
        "id": "iKLYhVFzrTj8",
        "colab_type": "code",
        "colab": {
          "base_uri": "https://localhost:8080/",
          "height": 544
        },
        "outputId": "9b8230d9-9e5a-41fb-8689-e1cee980ca13"
      },
      "source": [
        "model.fit(x_train, y_train, validation_split=0.2, epochs = 15, verbose = 2, batch_size=250, )"
      ],
      "execution_count": 28,
      "outputs": [
        {
          "output_type": "stream",
          "text": [
            "Epoch 1/15\n",
            "160/160 - 28s - loss: 0.8743 - accuracy: 0.6995 - val_loss: 1.0256 - val_accuracy: 0.6450\n",
            "Epoch 2/15\n",
            "160/160 - 28s - loss: 0.8289 - accuracy: 0.7145 - val_loss: 1.0547 - val_accuracy: 0.6343\n",
            "Epoch 3/15\n",
            "160/160 - 28s - loss: 0.8082 - accuracy: 0.7216 - val_loss: 1.0549 - val_accuracy: 0.6376\n",
            "Epoch 4/15\n",
            "160/160 - 28s - loss: 0.7726 - accuracy: 0.7327 - val_loss: 1.0132 - val_accuracy: 0.6541\n",
            "Epoch 5/15\n",
            "160/160 - 28s - loss: 0.7525 - accuracy: 0.7398 - val_loss: 1.0146 - val_accuracy: 0.6526\n",
            "Epoch 6/15\n",
            "160/160 - 28s - loss: 0.7299 - accuracy: 0.7489 - val_loss: 1.0028 - val_accuracy: 0.6561\n",
            "Epoch 7/15\n",
            "160/160 - 28s - loss: 0.6952 - accuracy: 0.7624 - val_loss: 1.0670 - val_accuracy: 0.6386\n",
            "Epoch 8/15\n",
            "160/160 - 28s - loss: 0.6731 - accuracy: 0.7696 - val_loss: 1.0279 - val_accuracy: 0.6571\n",
            "Epoch 9/15\n",
            "160/160 - 27s - loss: 0.6489 - accuracy: 0.7795 - val_loss: 1.0425 - val_accuracy: 0.6536\n",
            "Epoch 10/15\n",
            "160/160 - 27s - loss: 0.6237 - accuracy: 0.7874 - val_loss: 1.0272 - val_accuracy: 0.6545\n",
            "Epoch 11/15\n",
            "160/160 - 28s - loss: 0.5957 - accuracy: 0.7964 - val_loss: 1.0448 - val_accuracy: 0.6517\n",
            "Epoch 12/15\n",
            "160/160 - 28s - loss: 0.5890 - accuracy: 0.7999 - val_loss: 1.0419 - val_accuracy: 0.6571\n",
            "Epoch 13/15\n",
            "160/160 - 27s - loss: 0.5538 - accuracy: 0.8129 - val_loss: 1.0493 - val_accuracy: 0.6546\n",
            "Epoch 14/15\n",
            "160/160 - 27s - loss: 0.5281 - accuracy: 0.8232 - val_loss: 1.0623 - val_accuracy: 0.6565\n",
            "Epoch 15/15\n",
            "160/160 - 27s - loss: 0.5156 - accuracy: 0.8253 - val_loss: 1.0616 - val_accuracy: 0.6591\n"
          ],
          "name": "stdout"
        },
        {
          "output_type": "execute_result",
          "data": {
            "text/plain": [
              "<tensorflow.python.keras.callbacks.History at 0x7f1032c0a0b8>"
            ]
          },
          "metadata": {
            "tags": []
          },
          "execution_count": 28
        }
      ]
    },
    {
      "cell_type": "code",
      "metadata": {
        "id": "9H58UXyWr6cd",
        "colab_type": "code",
        "colab": {}
      },
      "source": [
        "\"\"\"prediction accuracy is much higher than validation accuracy which means the model is overfitting\n",
        "   solution: add dropout layer \n",
        "  predictive accuracy is not as high as well\n",
        "  solution: add more layers\n",
        "  \"\"\""
      ],
      "execution_count": 29,
      "outputs": []
    },
    {
      "cell_type": "code",
      "metadata": {
        "id": "PNQz-LrsDpcu",
        "colab_type": "code",
        "colab": {}
      },
      "source": [
        "model2 = Sequential([\n",
        "                    Conv2D(32, kernel_size=(3,3), padding='same', activation='relu', input_shape= (32, 32, 3)),\n",
        "                    MaxPooling2D(pool_size=(2,2)),\n",
        "                    Dropout(0.2),\n",
        "\n",
        "                    Conv2D(64, kernel_size=(3,3), padding='same', activation='relu'),\n",
        "                    MaxPooling2D(pool_size=(2,2)),\n",
        "                    Dropout(0.2),\n",
        "\n",
        "                    Conv2D(128, kernel_size=(3,3), padding='same', activation='relu'),\n",
        "                    MaxPooling2D(pool_size=(2,2)),\n",
        "                    Dropout(0.2),\n",
        "\n",
        "                    Flatten(),\n",
        "                    Dense(128, activation ='relu'),\n",
        "                    Dense(356, activation ='relu'),\n",
        "                    Dense(10, activation = 'softmax'),\n",
        "])\n"
      ],
      "execution_count": 31,
      "outputs": []
    },
    {
      "cell_type": "code",
      "metadata": {
        "id": "-Ju1QSnLG441",
        "colab_type": "code",
        "colab": {}
      },
      "source": [
        "model2.compile(loss='categorical_crossentropy', optimizer='adam', metrics=['accuracy'])"
      ],
      "execution_count": 33,
      "outputs": []
    },
    {
      "cell_type": "code",
      "metadata": {
        "id": "d12n-jpjHFXr",
        "colab_type": "code",
        "colab": {
          "base_uri": "https://localhost:8080/",
          "height": 595
        },
        "outputId": "b3846e0f-b3bb-4e69-a15b-241d981eb842"
      },
      "source": [
        "model2.summary()"
      ],
      "execution_count": 34,
      "outputs": [
        {
          "output_type": "stream",
          "text": [
            "Model: \"sequential_2\"\n",
            "_________________________________________________________________\n",
            "Layer (type)                 Output Shape              Param #   \n",
            "=================================================================\n",
            "conv2d_2 (Conv2D)            (None, 32, 32, 32)        896       \n",
            "_________________________________________________________________\n",
            "max_pooling2d_2 (MaxPooling2 (None, 16, 16, 32)        0         \n",
            "_________________________________________________________________\n",
            "dropout (Dropout)            (None, 16, 16, 32)        0         \n",
            "_________________________________________________________________\n",
            "conv2d_3 (Conv2D)            (None, 16, 16, 64)        18496     \n",
            "_________________________________________________________________\n",
            "max_pooling2d_3 (MaxPooling2 (None, 8, 8, 64)          0         \n",
            "_________________________________________________________________\n",
            "dropout_1 (Dropout)          (None, 8, 8, 64)          0         \n",
            "_________________________________________________________________\n",
            "conv2d_4 (Conv2D)            (None, 8, 8, 128)         73856     \n",
            "_________________________________________________________________\n",
            "max_pooling2d_4 (MaxPooling2 (None, 4, 4, 128)         0         \n",
            "_________________________________________________________________\n",
            "dropout_2 (Dropout)          (None, 4, 4, 128)         0         \n",
            "_________________________________________________________________\n",
            "flatten_2 (Flatten)          (None, 2048)              0         \n",
            "_________________________________________________________________\n",
            "dense_4 (Dense)              (None, 128)               262272    \n",
            "_________________________________________________________________\n",
            "dense_5 (Dense)              (None, 356)               45924     \n",
            "_________________________________________________________________\n",
            "dense_6 (Dense)              (None, 10)                3570      \n",
            "=================================================================\n",
            "Total params: 405,014\n",
            "Trainable params: 405,014\n",
            "Non-trainable params: 0\n",
            "_________________________________________________________________\n"
          ],
          "name": "stdout"
        }
      ]
    },
    {
      "cell_type": "code",
      "metadata": {
        "id": "MO4qpIBhHJBl",
        "colab_type": "code",
        "colab": {
          "base_uri": "https://localhost:8080/",
          "height": 884
        },
        "outputId": "018a9644-87b9-47f5-dd73-6781cdf1d488"
      },
      "source": [
        "model2.fit(x_train, y_train, validation_split=0.2, epochs = 25, verbose = 2, batch_size=250, )"
      ],
      "execution_count": 35,
      "outputs": [
        {
          "output_type": "stream",
          "text": [
            "Epoch 1/25\n",
            "160/160 - 88s - loss: 1.7997 - accuracy: 0.3370 - val_loss: 1.5286 - val_accuracy: 0.4528\n",
            "Epoch 2/25\n",
            "160/160 - 85s - loss: 1.4452 - accuracy: 0.4742 - val_loss: 1.3054 - val_accuracy: 0.5338\n",
            "Epoch 3/25\n",
            "160/160 - 85s - loss: 1.2711 - accuracy: 0.5414 - val_loss: 1.1713 - val_accuracy: 0.5840\n",
            "Epoch 4/25\n",
            "160/160 - 85s - loss: 1.1548 - accuracy: 0.5842 - val_loss: 1.0757 - val_accuracy: 0.6256\n",
            "Epoch 5/25\n",
            "160/160 - 85s - loss: 1.0632 - accuracy: 0.6209 - val_loss: 1.0111 - val_accuracy: 0.6485\n",
            "Epoch 6/25\n",
            "160/160 - 85s - loss: 0.9944 - accuracy: 0.6470 - val_loss: 0.9576 - val_accuracy: 0.6671\n",
            "Epoch 7/25\n",
            "160/160 - 85s - loss: 0.9297 - accuracy: 0.6706 - val_loss: 0.9374 - val_accuracy: 0.6778\n",
            "Epoch 8/25\n",
            "160/160 - 84s - loss: 0.8822 - accuracy: 0.6852 - val_loss: 0.8530 - val_accuracy: 0.7012\n",
            "Epoch 9/25\n",
            "160/160 - 84s - loss: 0.8423 - accuracy: 0.7006 - val_loss: 0.8191 - val_accuracy: 0.7129\n",
            "Epoch 10/25\n",
            "160/160 - 84s - loss: 0.8068 - accuracy: 0.7151 - val_loss: 0.8076 - val_accuracy: 0.7178\n",
            "Epoch 11/25\n",
            "160/160 - 84s - loss: 0.7617 - accuracy: 0.7321 - val_loss: 0.7673 - val_accuracy: 0.7370\n",
            "Epoch 12/25\n",
            "160/160 - 84s - loss: 0.7426 - accuracy: 0.7384 - val_loss: 0.7670 - val_accuracy: 0.7332\n",
            "Epoch 13/25\n",
            "160/160 - 84s - loss: 0.7024 - accuracy: 0.7510 - val_loss: 0.7337 - val_accuracy: 0.7450\n",
            "Epoch 14/25\n",
            "160/160 - 84s - loss: 0.6797 - accuracy: 0.7596 - val_loss: 0.7300 - val_accuracy: 0.7473\n",
            "Epoch 15/25\n",
            "160/160 - 84s - loss: 0.6616 - accuracy: 0.7657 - val_loss: 0.7418 - val_accuracy: 0.7441\n",
            "Epoch 16/25\n",
            "160/160 - 84s - loss: 0.6335 - accuracy: 0.7760 - val_loss: 0.7217 - val_accuracy: 0.7495\n",
            "Epoch 17/25\n",
            "160/160 - 84s - loss: 0.6043 - accuracy: 0.7842 - val_loss: 0.7008 - val_accuracy: 0.7616\n",
            "Epoch 18/25\n",
            "160/160 - 84s - loss: 0.5835 - accuracy: 0.7915 - val_loss: 0.7096 - val_accuracy: 0.7598\n",
            "Epoch 19/25\n",
            "160/160 - 84s - loss: 0.5691 - accuracy: 0.7951 - val_loss: 0.6913 - val_accuracy: 0.7651\n",
            "Epoch 20/25\n",
            "160/160 - 84s - loss: 0.5503 - accuracy: 0.8050 - val_loss: 0.7067 - val_accuracy: 0.7613\n",
            "Epoch 21/25\n",
            "160/160 - 84s - loss: 0.5249 - accuracy: 0.8128 - val_loss: 0.7013 - val_accuracy: 0.7664\n",
            "Epoch 22/25\n",
            "160/160 - 84s - loss: 0.5180 - accuracy: 0.8156 - val_loss: 0.7262 - val_accuracy: 0.7554\n",
            "Epoch 23/25\n",
            "160/160 - 84s - loss: 0.4998 - accuracy: 0.8215 - val_loss: 0.6982 - val_accuracy: 0.7660\n",
            "Epoch 24/25\n",
            "160/160 - 84s - loss: 0.4870 - accuracy: 0.8232 - val_loss: 0.6881 - val_accuracy: 0.7687\n",
            "Epoch 25/25\n",
            "160/160 - 84s - loss: 0.4713 - accuracy: 0.8296 - val_loss: 0.6973 - val_accuracy: 0.7684\n"
          ],
          "name": "stdout"
        },
        {
          "output_type": "execute_result",
          "data": {
            "text/plain": [
              "<tensorflow.python.keras.callbacks.History at 0x7f1032ab0b00>"
            ]
          },
          "metadata": {
            "tags": []
          },
          "execution_count": 35
        }
      ]
    },
    {
      "cell_type": "code",
      "metadata": {
        "id": "W7m_fLtVHTrc",
        "colab_type": "code",
        "colab": {}
      },
      "source": [
        "## new model is only slightly better than the previous model. pretrained models could be used for better accuracy"
      ],
      "execution_count": 36,
      "outputs": []
    },
    {
      "cell_type": "code",
      "metadata": {
        "id": "W2qCr3rvRCmL",
        "colab_type": "code",
        "colab": {}
      },
      "source": [
        "model2_predictions = model2.predict(x_test)"
      ],
      "execution_count": 56,
      "outputs": []
    },
    {
      "cell_type": "code",
      "metadata": {
        "id": "WW6Hap5LTGiq",
        "colab_type": "code",
        "colab": {}
      },
      "source": [
        "model2_predictions = np.argmax(model2_predictions, axis = 1)"
      ],
      "execution_count": 57,
      "outputs": []
    },
    {
      "cell_type": "code",
      "metadata": {
        "id": "dxthakzNUQDj",
        "colab_type": "code",
        "colab": {}
      },
      "source": [
        "y_test = np.argmax(y_test, axis =1)"
      ],
      "execution_count": 63,
      "outputs": []
    },
    {
      "cell_type": "code",
      "metadata": {
        "id": "McMr8Wv1SZRn",
        "colab_type": "code",
        "colab": {
          "base_uri": "https://localhost:8080/",
          "height": 34
        },
        "outputId": "71f91e09-bbd7-47a5-ba75-14e7d8f81ed5"
      },
      "source": [
        "model2_predictions"
      ],
      "execution_count": 58,
      "outputs": [
        {
          "output_type": "execute_result",
          "data": {
            "text/plain": [
              "array([3, 8, 8, ..., 5, 1, 7])"
            ]
          },
          "metadata": {
            "tags": []
          },
          "execution_count": 58
        }
      ]
    },
    {
      "cell_type": "code",
      "metadata": {
        "id": "gFQFQy12SwcC",
        "colab_type": "code",
        "colab": {
          "base_uri": "https://localhost:8080/",
          "height": 34
        },
        "outputId": "c2bdd8ce-bbc3-4833-cf63-01038fdd5740"
      },
      "source": [
        "y_test"
      ],
      "execution_count": 64,
      "outputs": [
        {
          "output_type": "execute_result",
          "data": {
            "text/plain": [
              "array([3, 8, 8, ..., 5, 1, 7])"
            ]
          },
          "metadata": {
            "tags": []
          },
          "execution_count": 64
        }
      ]
    },
    {
      "cell_type": "code",
      "metadata": {
        "id": "7inOaBiTSzRs",
        "colab_type": "code",
        "colab": {}
      },
      "source": [
        "from sklearn.metrics import confusion_matrix, classification_report"
      ],
      "execution_count": 68,
      "outputs": []
    },
    {
      "cell_type": "code",
      "metadata": {
        "id": "HHoYRPYzTcYq",
        "colab_type": "code",
        "colab": {
          "base_uri": "https://localhost:8080/",
          "height": 187
        },
        "outputId": "001ddfd1-a833-4c1c-bd4f-1608f652d57e"
      },
      "source": [
        "confusion_matrix(model2_predictions, y_test)"
      ],
      "execution_count": 65,
      "outputs": [
        {
          "output_type": "execute_result",
          "data": {
            "text/plain": [
              "array([[785,  16,  58,  20,  13,  10,   5,  11,  41,  24],\n",
              "       [ 14, 870,   4,  11,   4,   2,   4,   0,  20,  70],\n",
              "       [ 45,   4, 697,  94,  69,  76,  44,  39,  15,   5],\n",
              "       [ 10,   6,  45, 581,  52, 194,  64,  36,   7,  15],\n",
              "       [ 13,   1,  78,  61, 748,  48,  37,  65,   6,   3],\n",
              "       [  4,   1,  27, 132,  17, 595,  14,  31,   2,   6],\n",
              "       [  8,   6,  41,  45,  42,  18, 816,   6,   3,   5],\n",
              "       [ 12,   2,  24,  28,  46,  40,   4, 791,   1,   7],\n",
              "       [ 76,  22,  20,  11,   9,  11,   9,   5, 886,  27],\n",
              "       [ 33,  72,   6,  17,   0,   6,   3,  16,  19, 838]])"
            ]
          },
          "metadata": {
            "tags": []
          },
          "execution_count": 65
        }
      ]
    },
    {
      "cell_type": "code",
      "metadata": {
        "id": "gKvcZYuYUoh2",
        "colab_type": "code",
        "colab": {
          "base_uri": "https://localhost:8080/",
          "height": 306
        },
        "outputId": "6227108b-e6d6-4a11-b717-073ca92d5bf0"
      },
      "source": [
        "print(classification_report(model2_predictions, y_test))"
      ],
      "execution_count": 69,
      "outputs": [
        {
          "output_type": "stream",
          "text": [
            "              precision    recall  f1-score   support\n",
            "\n",
            "           0       0.79      0.80      0.79       983\n",
            "           1       0.87      0.87      0.87       999\n",
            "           2       0.70      0.64      0.67      1088\n",
            "           3       0.58      0.58      0.58      1010\n",
            "           4       0.75      0.71      0.73      1060\n",
            "           5       0.59      0.72      0.65       829\n",
            "           6       0.82      0.82      0.82       990\n",
            "           7       0.79      0.83      0.81       955\n",
            "           8       0.89      0.82      0.85      1076\n",
            "           9       0.84      0.83      0.83      1010\n",
            "\n",
            "    accuracy                           0.76     10000\n",
            "   macro avg       0.76      0.76      0.76     10000\n",
            "weighted avg       0.76      0.76      0.76     10000\n",
            "\n"
          ],
          "name": "stdout"
        }
      ]
    },
    {
      "cell_type": "code",
      "metadata": {
        "id": "6AdVfoXMU1f8",
        "colab_type": "code",
        "colab": {}
      },
      "source": [
        ""
      ],
      "execution_count": null,
      "outputs": []
    }
  ]
}
